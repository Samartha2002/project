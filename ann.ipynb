{
 "cells": [
  {
   "cell_type": "code",
   "execution_count": 1,
   "metadata": {},
   "outputs": [],
   "source": [
    "import pandas as pd\n",
    "from sklearn.model_selection import train_test_split\n",
    "from sklearn.ensemble import RandomForestClassifier\n",
    "from sklearn.metrics import accuracy_score, precision_score, recall_score, f1_score, roc_auc_score\n",
    "from sklearn.model_selection import GridSearchCV\n"
   ]
  },
  {
   "cell_type": "code",
   "execution_count": 2,
   "metadata": {},
   "outputs": [],
   "source": [
    "data = pd.read_excel(\"AnomaData.xlsx\")\n"
   ]
  },
  {
   "cell_type": "code",
   "execution_count": 4,
   "metadata": {},
   "outputs": [
    {
     "name": "stdout",
     "output_type": "stream",
     "text": [
      "<class 'pandas.core.frame.DataFrame'>\n",
      "RangeIndex: 18398 entries, 0 to 18397\n",
      "Data columns (total 62 columns):\n",
      " #   Column  Non-Null Count  Dtype         \n",
      "---  ------  --------------  -----         \n",
      " 0   time    18398 non-null  datetime64[ns]\n",
      " 1   y       18398 non-null  int64         \n",
      " 2   x1      18398 non-null  float64       \n",
      " 3   x2      18398 non-null  float64       \n",
      " 4   x3      18398 non-null  float64       \n",
      " 5   x4      18398 non-null  float64       \n",
      " 6   x5      18398 non-null  float64       \n",
      " 7   x6      18398 non-null  float64       \n",
      " 8   x7      18398 non-null  float64       \n",
      " 9   x8      18398 non-null  float64       \n",
      " 10  x9      18398 non-null  float64       \n",
      " 11  x10     18398 non-null  float64       \n",
      " 12  x11     18398 non-null  float64       \n",
      " 13  x12     18398 non-null  float64       \n",
      " 14  x13     18398 non-null  float64       \n",
      " 15  x14     18398 non-null  float64       \n",
      " 16  x15     18398 non-null  float64       \n",
      " 17  x16     18398 non-null  float64       \n",
      " 18  x17     18398 non-null  float64       \n",
      " 19  x18     18398 non-null  float64       \n",
      " 20  x19     18398 non-null  float64       \n",
      " 21  x20     18398 non-null  float64       \n",
      " 22  x21     18398 non-null  float64       \n",
      " 23  x22     18398 non-null  float64       \n",
      " 24  x23     18398 non-null  float64       \n",
      " 25  x24     18398 non-null  float64       \n",
      " 26  x25     18398 non-null  float64       \n",
      " 27  x26     18398 non-null  float64       \n",
      " 28  x27     18398 non-null  float64       \n",
      " 29  x28     18398 non-null  int64         \n",
      " 30  x29     18398 non-null  float64       \n",
      " 31  x30     18398 non-null  float64       \n",
      " 32  x31     18398 non-null  float64       \n",
      " 33  x32     18398 non-null  float64       \n",
      " 34  x33     18398 non-null  float64       \n",
      " 35  x34     18398 non-null  float64       \n",
      " 36  x35     18398 non-null  float64       \n",
      " 37  x36     18398 non-null  float64       \n",
      " 38  x37     18398 non-null  float64       \n",
      " 39  x38     18398 non-null  float64       \n",
      " 40  x39     18398 non-null  float64       \n",
      " 41  x40     18398 non-null  float64       \n",
      " 42  x41     18398 non-null  float64       \n",
      " 43  x42     18398 non-null  float64       \n",
      " 44  x43     18398 non-null  float64       \n",
      " 45  x44     18398 non-null  float64       \n",
      " 46  x45     18398 non-null  float64       \n",
      " 47  x46     18398 non-null  float64       \n",
      " 48  x47     18398 non-null  float64       \n",
      " 49  x48     18398 non-null  float64       \n",
      " 50  x49     18398 non-null  float64       \n",
      " 51  x50     18398 non-null  float64       \n",
      " 52  x51     18398 non-null  float64       \n",
      " 53  x52     18398 non-null  float64       \n",
      " 54  x54     18398 non-null  float64       \n",
      " 55  x55     18398 non-null  float64       \n",
      " 56  x56     18398 non-null  float64       \n",
      " 57  x57     18398 non-null  float64       \n",
      " 58  x58     18398 non-null  float64       \n",
      " 59  x59     18398 non-null  float64       \n",
      " 60  x60     18398 non-null  float64       \n",
      " 61  y.1     18398 non-null  int64         \n",
      "dtypes: datetime64[ns](1), float64(58), int64(3)\n",
      "memory usage: 8.7 MB\n",
      "None\n",
      "                                time             y            x1  \\\n",
      "count                          18398  18398.000000  18398.000000   \n",
      "mean   1999-05-15 01:20:42.728557312      0.006740      0.011824   \n",
      "min              1999-05-01 00:00:00      0.000000     -3.787279   \n",
      "25%              1999-05-08 03:36:30      0.000000     -0.405681   \n",
      "50%              1999-05-14 18:39:00      0.000000      0.128245   \n",
      "75%              1999-05-22 06:01:30      0.000000      0.421222   \n",
      "max              1999-05-29 00:06:00      1.000000      3.054156   \n",
      "std                              NaN      0.081822      0.742875   \n",
      "\n",
      "                 x2            x3            x4            x5            x6  \\\n",
      "count  18398.000000  18398.000000  18398.000000  18398.000000  18398.000000   \n",
      "mean       0.157986      0.569300     -9.958345      0.006518      2.387533   \n",
      "min      -17.316550    -18.198509   -322.781610     -1.623988   -279.408440   \n",
      "25%       -2.158235     -3.537054   -111.378372     -0.446787    -24.345268   \n",
      "50%       -0.075505     -0.190683    -14.881585     -0.120745     10.528435   \n",
      "75%        2.319297      3.421223     92.199134      0.325152     32.172974   \n",
      "max       16.742105     15.900116    334.694098      4.239385     96.060768   \n",
      "std        4.939762      5.937178    131.033712      0.634054     37.104012   \n",
      "\n",
      "                 x7            x8  ...           x51           x52  \\\n",
      "count  18398.000000  18398.000000  ...  18398.000000  18398.000000   \n",
      "mean       0.001647     -0.004125  ...     -3.357339      0.380519   \n",
      "min       -0.429273     -0.451141  ...  -3652.989000   -187.943440   \n",
      "25%       -0.058520     -0.051043  ...     29.984624     -3.672684   \n",
      "50%       -0.009338     -0.000993  ...     29.984624      0.294846   \n",
      "75%        0.060515      0.038986  ...     29.984624      5.109543   \n",
      "max        1.705590      0.788826  ...     40.152348     14.180588   \n",
      "std        0.108870      0.075460  ...    348.256716      6.211598   \n",
      "\n",
      "                x54           x55           x56           x57           x58  \\\n",
      "count  18398.000000  18398.000000  18398.000000  18398.000000  18398.000000   \n",
      "mean       0.173708      2.379154      9.234953      0.233493     -0.001861   \n",
      "min       -8.210370   -230.574030   -269.039500    -12.640370     -0.149790   \n",
      "25%        0.487780    -40.050046    -45.519149     -1.598804      0.000470   \n",
      "50%        0.702299     17.471317      1.438806      0.085826      0.012888   \n",
      "75%        2.675751     44.093387     63.209681      2.222118      0.020991   \n",
      "max        6.637265    287.252017    252.147455      6.922008      0.067249   \n",
      "std        3.029516     67.940694     81.274103      2.326838      0.048732   \n",
      "\n",
      "                x59           x60           y.1  \n",
      "count  18398.000000  18398.000000  18398.000000  \n",
      "mean      -0.061522      0.001258      0.001033  \n",
      "min     -100.810500     -0.012229      0.000000  \n",
      "25%        0.295023     -0.001805      0.000000  \n",
      "50%        0.734591      0.000710      0.000000  \n",
      "75%        1.266506      0.004087      0.000000  \n",
      "max        6.985460      0.020510      1.000000  \n",
      "std       10.394085      0.004721      0.032120  \n",
      "\n",
      "[8 rows x 62 columns]\n"
     ]
    }
   ],
   "source": [
    "print(data.info())\n",
    "print(data.describe())"
   ]
  },
  {
   "cell_type": "code",
   "execution_count": 5,
   "metadata": {},
   "outputs": [],
   "source": [
    "data.fillna(data.mean(), inplace=True)"
   ]
  },
  {
   "cell_type": "code",
   "execution_count": 6,
   "metadata": {},
   "outputs": [],
   "source": [
    "X = data.drop(columns=['time', 'y'])  \n",
    "y = data['y'] "
   ]
  },
  {
   "cell_type": "code",
   "execution_count": 7,
   "metadata": {},
   "outputs": [],
   "source": [
    "X_train, X_test, y_train, y_test = train_test_split(X, y, test_size=0.2, random_state=42)\n"
   ]
  },
  {
   "cell_type": "code",
   "execution_count": 8,
   "metadata": {},
   "outputs": [],
   "source": [
    "rf_classifier = RandomForestClassifier(random_state=42)\n",
    "rf_classifier.fit(X_train, y_train)\n",
    "y_pred = rf_classifier.predict(X_test)"
   ]
  },
  {
   "cell_type": "code",
   "execution_count": 9,
   "metadata": {},
   "outputs": [
    {
     "name": "stdout",
     "output_type": "stream",
     "text": [
      "Accuracy: 0.997554347826087\n"
     ]
    }
   ],
   "source": [
    "accuracy = accuracy_score(y_test, y_pred)\n",
    "print(\"Accuracy:\", accuracy)"
   ]
  },
  {
   "cell_type": "code",
   "execution_count": 10,
   "metadata": {},
   "outputs": [],
   "source": [
    "accuracy = accuracy_score(y_test, y_pred)\n",
    "precision = precision_score(y_test, y_pred)\n",
    "recall = recall_score(y_test, y_pred)\n",
    "f1 = f1_score(y_test, y_pred)\n",
    "roc_auc = roc_auc_score(y_test, y_pred)"
   ]
  },
  {
   "cell_type": "code",
   "execution_count": 11,
   "metadata": {},
   "outputs": [
    {
     "name": "stdout",
     "output_type": "stream",
     "text": [
      "Accuracy: 0.997554347826087\n",
      "Precision: 0.9333333333333333\n",
      "Recall: 0.6363636363636364\n",
      "F1 Score: 0.7567567567567568\n",
      "ROC AUC Score: 0.8180451314677667\n"
     ]
    }
   ],
   "source": [
    "print(\"Accuracy:\", accuracy)\n",
    "print(\"Precision:\", precision)\n",
    "print(\"Recall:\", recall)\n",
    "print(\"F1 Score:\", f1)\n",
    "print(\"ROC AUC Score:\", roc_auc)"
   ]
  },
  {
   "cell_type": "markdown",
   "metadata": {},
   "source": []
  }
 ],
 "metadata": {
  "kernelspec": {
   "display_name": "Python 3",
   "language": "python",
   "name": "python3"
  },
  "language_info": {
   "codemirror_mode": {
    "name": "ipython",
    "version": 3
   },
   "file_extension": ".py",
   "mimetype": "text/x-python",
   "name": "python",
   "nbconvert_exporter": "python",
   "pygments_lexer": "ipython3",
   "version": "3.11.8"
  }
 },
 "nbformat": 4,
 "nbformat_minor": 2
}
